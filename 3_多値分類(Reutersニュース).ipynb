{
  "nbformat": 4,
  "nbformat_minor": 0,
  "metadata": {
    "colab": {
      "name": "3_多値分類(Reutersニュース).ipynb",
      "provenance": [],
      "authorship_tag": "ABX9TyOU8FpRen5k0TVi57nnz9sm",
      "include_colab_link": true
    },
    "kernelspec": {
      "name": "python3",
      "display_name": "Python 3"
    }
  },
  "cells": [
    {
      "cell_type": "markdown",
      "metadata": {
        "id": "view-in-github",
        "colab_type": "text"
      },
      "source": [
        "<a href=\"https://colab.research.google.com/github/m-hironori/PRML/blob/master/3_%E5%A4%9A%E5%80%A4%E5%88%86%E9%A1%9E(Reuters%E3%83%8B%E3%83%A5%E3%83%BC%E3%82%B9).ipynb\" target=\"_parent\"><img src=\"https://colab.research.google.com/assets/colab-badge.svg\" alt=\"Open In Colab\"/></a>"
      ]
    },
    {
      "cell_type": "code",
      "metadata": {
        "id": "aFaaEUQHSAb9",
        "colab_type": "code",
        "colab": {
          "base_uri": "https://localhost:8080/",
          "height": 97
        },
        "outputId": "0464c51e-ed57-4775-b433-dcdf15969203"
      },
      "source": [
        "import keras\n",
        "keras.__version__"
      ],
      "execution_count": 1,
      "outputs": [
        {
          "output_type": "stream",
          "text": [
            "Using TensorFlow backend.\n"
          ],
          "name": "stderr"
        },
        {
          "output_type": "display_data",
          "data": {
            "text/html": [
              "<p style=\"color: red;\">\n",
              "The default version of TensorFlow in Colab will soon switch to TensorFlow 2.x.<br>\n",
              "We recommend you <a href=\"https://www.tensorflow.org/guide/migrate\" target=\"_blank\">upgrade</a> now \n",
              "or ensure your notebook will continue to use TensorFlow 1.x via the <code>%tensorflow_version 1.x</code> magic:\n",
              "<a href=\"https://colab.research.google.com/notebooks/tensorflow_version.ipynb\" target=\"_blank\">more info</a>.</p>\n"
            ],
            "text/plain": [
              "<IPython.core.display.HTML object>"
            ]
          },
          "metadata": {
            "tags": []
          }
        },
        {
          "output_type": "execute_result",
          "data": {
            "text/plain": [
              "'2.2.5'"
            ]
          },
          "metadata": {
            "tags": []
          },
          "execution_count": 1
        }
      ]
    },
    {
      "cell_type": "markdown",
      "metadata": {
        "id": "igD-QSn9SP3F",
        "colab_type": "text"
      },
      "source": [
        "# 多値分類(Reutersニュース)"
      ]
    },
    {
      "cell_type": "markdown",
      "metadata": {
        "id": "dPI5lsJHSYnt",
        "colab_type": "text"
      },
      "source": [
        "kerasによるモデル作成の基本として、今度は多値分類の例をやってみましょう。 \n",
        "Reutersニュースのカテゴリ分類をやってみましょう。\n",
        "\n"
      ]
    },
    {
      "cell_type": "markdown",
      "metadata": {
        "id": "jb64bkzxSmtl",
        "colab_type": "text"
      },
      "source": [
        "## 問題設定\n"
      ]
    },
    {
      "cell_type": "markdown",
      "metadata": {
        "id": "JD4EOrs4SoAs",
        "colab_type": "text"
      },
      "source": [
        "まずは、問題設定を確認してみましょう。\n",
        "\n"
      ]
    },
    {
      "cell_type": "markdown",
      "metadata": {
        "id": "Ns0w5suuSpk9",
        "colab_type": "text"
      },
      "source": [
        "### 問題設定の確認\n"
      ]
    },
    {
      "cell_type": "markdown",
      "metadata": {
        "id": "FB8-rEMmStTk",
        "colab_type": "text"
      },
      "source": [
        "\n",
        "問題属性 | 問題内容\n",
        "--- | ---\n",
        "入力データ形式 | レビューテキスト（英語）\n",
        "予測すること | レビュー内容が、ポジティブ or ネガティブ\n",
        "評価指標 | accuracy\n",
        "評価方法 | ホールドアウト"
      ]
    },
    {
      "cell_type": "code",
      "metadata": {
        "id": "G26FmqYeSLqx",
        "colab_type": "code",
        "colab": {}
      },
      "source": [
        ""
      ],
      "execution_count": 0,
      "outputs": []
    },
    {
      "cell_type": "markdown",
      "metadata": {
        "id": "Hy6OGQpWSPOO",
        "colab_type": "text"
      },
      "source": [
        ""
      ]
    }
  ]
}