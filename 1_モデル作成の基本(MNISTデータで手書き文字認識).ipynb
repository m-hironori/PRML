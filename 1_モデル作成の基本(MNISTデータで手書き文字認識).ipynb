{
  "nbformat": 4,
  "nbformat_minor": 0,
  "metadata": {
    "colab": {
      "name": "1_モデル作成の基本(MNISTデータで手書き文字認識).ipynb",
      "provenance": [],
      "authorship_tag": "ABX9TyO+hW2jPY93LpiTP1aHyiXd",
      "include_colab_link": true
    },
    "kernelspec": {
      "name": "python3",
      "display_name": "Python 3"
    }
  },
  "cells": [
    {
      "cell_type": "markdown",
      "metadata": {
        "id": "view-in-github",
        "colab_type": "text"
      },
      "source": [
        "<a href=\"https://colab.research.google.com/github/m-hironori/PRML/blob/master/1_%E3%83%A2%E3%83%87%E3%83%AB%E4%BD%9C%E6%88%90%E3%81%AE%E5%9F%BA%E6%9C%AC(MNIST%E3%83%87%E3%83%BC%E3%82%BF%E3%81%A7%E6%89%8B%E6%9B%B8%E3%81%8D%E6%96%87%E5%AD%97%E8%AA%8D%E8%AD%98).ipynb\" target=\"_parent\"><img src=\"https://colab.research.google.com/assets/colab-badge.svg\" alt=\"Open In Colab\"/></a>"
      ]
    },
    {
      "cell_type": "code",
      "metadata": {
        "id": "nQIQ3EDG0cYk",
        "colab_type": "code",
        "colab": {
          "base_uri": "https://localhost:8080/",
          "height": 114
        },
        "outputId": "7ac3dd81-2d24-451f-ce45-a0b76b712be9"
      },
      "source": [
        "import keras\n",
        "keras.__version__"
      ],
      "execution_count": 1,
      "outputs": [
        {
          "output_type": "stream",
          "text": [
            "Using TensorFlow backend.\n"
          ],
          "name": "stderr"
        },
        {
          "output_type": "display_data",
          "data": {
            "text/html": [
              "<p style=\"color: red;\">\n",
              "The default version of TensorFlow in Colab will soon switch to TensorFlow 2.x.<br>\n",
              "We recommend you <a href=\"https://www.tensorflow.org/guide/migrate\" target=\"_blank\">upgrade</a> now \n",
              "or ensure your notebook will continue to use TensorFlow 1.x via the <code>%tensorflow_version 1.x</code> magic:\n",
              "<a href=\"https://colab.research.google.com/notebooks/tensorflow_version.ipynb\" target=\"_blank\">more info</a>.</p>\n"
            ],
            "text/plain": [
              "<IPython.core.display.HTML object>"
            ]
          },
          "metadata": {
            "tags": []
          }
        },
        {
          "output_type": "execute_result",
          "data": {
            "text/plain": [
              "'2.2.5'"
            ]
          },
          "metadata": {
            "tags": []
          },
          "execution_count": 1
        }
      ]
    },
    {
      "cell_type": "markdown",
      "metadata": {
        "id": "2Ubg1LbE1Qj7",
        "colab_type": "text"
      },
      "source": [
        "# モデル作成の基本(MNISTデータで手書き文字認識)\n",
        "\n",
        "MNIST手書き文字認識を解いてみましょう。\n",
        "\n",
        "## 問題設定\n",
        "手書き数字画像(0-9)を入力に、何の数字かを当てる。\n",
        "\n",
        "項目 | 内容\n",
        "--- | ---\n",
        "入力データ形式 | 手書きの数字(0-9)画像。28 * 28 の白黒。\n",
        "予測すること | 0 - 9 のどれが書いてあるか。多クラス分類問題。 \n",
        "評価指標 | accuracy\n",
        "評価方法 | ホールドアウト(訓練 60,000, テスト10,000)\n",
        " "
      ]
    },
    {
      "cell_type": "markdown",
      "metadata": {
        "id": "r5g8fqIO5z_b",
        "colab_type": "text"
      },
      "source": [
        "## データ準備\n",
        "\n",
        "kerasにデータセットが用意されているので、これをロードする。"
      ]
    },
    {
      "cell_type": "code",
      "metadata": {
        "id": "3eCEf5A27KWU",
        "colab_type": "code",
        "colab": {}
      },
      "source": [
        "from keras.datasets import mnist\n",
        "\n",
        "(train_images, train_labels), (test_images, test_labels) = mnist.load_data()"
      ],
      "execution_count": 0,
      "outputs": []
    },
    {
      "cell_type": "markdown",
      "metadata": {
        "id": "RB_YL1j67Zwz",
        "colab_type": "text"
      },
      "source": [
        "### データ量と内容を確認"
      ]
    },
    {
      "cell_type": "code",
      "metadata": {
        "id": "xMZwWjdX7gOD",
        "colab_type": "code",
        "colab": {
          "base_uri": "https://localhost:8080/",
          "height": 85
        },
        "outputId": "a53da6dd-ce00-41c4-f6ef-b5123e5fa84f"
      },
      "source": [
        "import numpy as np\n",
        "\n",
        "print(f\"学習用データ {train_images.shape}, {train_images.dtype}\")\n",
        "print(f\"学習用ラベル {train_labels.shape}, {train_labels.dtype}\")\n",
        "print(f\"テストデータ {test_images.shape}, {test_images.dtype}\")\n",
        "print(f\"テストラベル {test_labels.shape}, {test_labels.dtype}\")"
      ],
      "execution_count": 3,
      "outputs": [
        {
          "output_type": "stream",
          "text": [
            "学習用データ (60000, 28, 28), uint8\n",
            "学習用ラベル (60000,), uint8\n",
            "テストデータ (10000, 28, 28), uint8\n",
            "テストラベル (10000,), uint8\n"
          ],
          "name": "stdout"
        }
      ]
    },
    {
      "cell_type": "markdown",
      "metadata": {
        "id": "rvi-jjjR9dOP",
        "colab_type": "text"
      },
      "source": [
        "学習用データ60,000件、テスト用データ10,000件あることがわかる。\n",
        "データ内容は整数型である。\n",
        "\n",
        "次に、データとラベルの内容を見てみる。"
      ]
    },
    {
      "cell_type": "code",
      "metadata": {
        "id": "WBCgG00D-jdR",
        "colab_type": "code",
        "colab": {
          "base_uri": "https://localhost:8080/",
          "height": 119
        },
        "outputId": "e22718f5-17dd-4881-9949-3119712a64c8"
      },
      "source": [
        "print(f\"学習データ max {np.max(train_images)}, min {np.min(train_images)}\")\n",
        "print(f\"テストデータ max {np.max(test_images)}, min {np.min(test_images)} \")\n",
        "print(f\"学習ラベル max {np.max(train_labels)}, min {np.min(train_labels)}\")\n",
        "print(f\"学習ラベル uniq {np.unique(train_labels)}\")\n",
        "print(f\"テストラベル max {np.max(test_labels)}, min {np.min(test_labels)} \")\n",
        "print(f\"テストラベル uniq {np.unique(test_labels)}\")"
      ],
      "execution_count": 4,
      "outputs": [
        {
          "output_type": "stream",
          "text": [
            "学習データ max 255, min 0\n",
            "テストデータ max 255, min 0 \n",
            "学習ラベル max 9, min 0\n",
            "学習ラベル uniq [0 1 2 3 4 5 6 7 8 9]\n",
            "テストラベル max 9, min 0 \n",
            "テストラベル uniq [0 1 2 3 4 5 6 7 8 9]\n"
          ],
          "name": "stdout"
        }
      ]
    },
    {
      "cell_type": "markdown",
      "metadata": {
        "id": "ZovCWsuPElYO",
        "colab_type": "text"
      },
      "source": [
        "データは、画像の1チャネルデータで 0 - 255 の値。\n",
        "\n",
        "ラベルは、0 - 9 の数値で、学習用にもテスト用にも欠損しているラベルはない。"
      ]
    },
    {
      "cell_type": "code",
      "metadata": {
        "id": "jGH8C2ri85Bo",
        "colab_type": "code",
        "colab": {
          "base_uri": "https://localhost:8080/",
          "height": 265
        },
        "outputId": "19a2165c-f85f-49c0-f09b-8bdafcb2133e"
      },
      "source": [
        "import matplotlib.pyplot as plt\n",
        "plt.imshow(train_images[0])\n",
        "plt.show()"
      ],
      "execution_count": 5,
      "outputs": [
        {
          "output_type": "display_data",
          "data": {
            "image/png": "[encoded data removed]",
            "text/plain": [
              "<Figure size 432x288 with 1 Axes>"
            ]
          },
          "metadata": {
            "tags": []
          }
        }
      ]
    },
    {
      "cell_type": "code",
      "metadata": {
        "id": "mqTPTv3a-G8W",
        "colab_type": "code",
        "colab": {
          "base_uri": "https://localhost:8080/",
          "height": 34
        },
        "outputId": "f627485a-e803-424b-c200-5bc27a766c0e"
      },
      "source": [
        "train_labels[0]"
      ],
      "execution_count": 6,
      "outputs": [
        {
          "output_type": "execute_result",
          "data": {
            "text/plain": [
              "5"
            ]
          },
          "metadata": {
            "tags": []
          },
          "execution_count": 6
        }
      ]
    },
    {
      "cell_type": "markdown",
      "metadata": {
        "id": "OvsM1Ugm5_of",
        "colab_type": "text"
      },
      "source": [
        "## ベースライン指標(統計的検出力(statistical power))"
      ]
    },
    {
      "cell_type": "markdown",
      "metadata": {
        "id": "ORDJBr46FPSp",
        "colab_type": "text"
      },
      "source": [
        "ラベルごとの頻度を見てみる。"
      ]
    },
    {
      "cell_type": "code",
      "metadata": {
        "id": "RkPT2QpmBypA",
        "colab_type": "code",
        "outputId": "3cb12780-825d-43be-f8c3-79fe79c7a5b5",
        "colab": {
          "base_uri": "https://localhost:8080/",
          "height": 335
        }
      },
      "source": [
        "plt.hist(train_labels, bins=[0, 1, 2, 3, 4, 5, 6, 7, 8, 9, 10])"
      ],
      "execution_count": 7,
      "outputs": [
        {
          "output_type": "execute_result",
          "data": {
            "text/plain": [
              "(array([5923., 6742., 5958., 6131., 5842., 5421., 5918., 6265., 5851.,\n",
              "        5949.]),\n",
              " array([ 0,  1,  2,  3,  4,  5,  6,  7,  8,  9, 10]),\n",
              " <a list of 10 Patch objects>)"
            ]
          },
          "metadata": {
            "tags": []
          },
          "execution_count": 7
        },
        {
          "output_type": "display_data",
          "data": {
            "image/png": "[encoded data removed]",
            "text/plain": [
              "<Figure size 432x288 with 1 Axes>"
            ]
          },
          "metadata": {
            "tags": []
          }
        }
      ]
    },
    {
      "cell_type": "code",
      "metadata": {
        "id": "LIcrQehNFmRx",
        "colab_type": "code",
        "colab": {
          "base_uri": "https://localhost:8080/",
          "height": 333
        },
        "outputId": "34f44798-ccf8-41e1-b955-a4cdc6cd8433"
      },
      "source": [
        "plt.hist(test_labels, bins=[0, 1, 2, 3, 4, 5, 6, 7, 8, 9, 10])"
      ],
      "execution_count": 8,
      "outputs": [
        {
          "output_type": "execute_result",
          "data": {
            "text/plain": [
              "(array([ 980., 1135., 1032., 1010.,  982.,  892.,  958., 1028.,  974.,\n",
              "        1009.]),\n",
              " array([ 0,  1,  2,  3,  4,  5,  6,  7,  8,  9, 10]),\n",
              " <a list of 10 Patch objects>)"
            ]
          },
          "metadata": {
            "tags": []
          },
          "execution_count": 8
        },
        {
          "output_type": "display_data",
          "data": {
            "image/png": "[encoded data removed]",
            "text/plain": [
              "<Figure size 432x288 with 1 Axes>"
            ]
          },
          "metadata": {
            "tags": []
          }
        }
      ]
    },
    {
      "cell_type": "markdown",
      "metadata": {
        "id": "-AadxSfJD2Ys",
        "colab_type": "text"
      },
      "source": [
        "\"5\"が少し少ない気もするが、大体均等であることがわかる。\n",
        "\n",
        "ラベルに偏りはないので、accurayを指標にして大丈夫そうである。"
      ]
    },
    {
      "cell_type": "markdown",
      "metadata": {
        "id": "nfTiQ3OK-efM",
        "colab_type": "text"
      },
      "source": [
        "0 - 9 を当てる問題であり、かつ、ラベル頻度も均等なので、\n",
        "**accuracy 0.1**\n",
        "が統計的検出力となる。\n",
        "\n",
        "\n"
      ]
    },
    {
      "cell_type": "markdown",
      "metadata": {
        "id": "WFaY5uhv6t2k",
        "colab_type": "text"
      },
      "source": [
        "## モデル開発\n",
        "\n",
        "### まずは統計的検出力を上回る**モデルを作成**する。\n",
        "\n",
        "あまり凝ったことはせず、単純なモデルを試す。"
      ]
    },
    {
      "cell_type": "code",
      "metadata": {
        "id": "LUl9BPYsHFNM",
        "colab_type": "code",
        "colab": {
          "base_uri": "https://localhost:8080/",
          "height": 139
        },
        "outputId": "ce0188fb-9eb9-4c68-f70c-9480b37fb159"
      },
      "source": [
        "from keras import models\n",
        "from keras import layers\n",
        "\n",
        "network = models.Sequential()\n",
        "network.add(layers.Dense(512, activation='relu', input_shape=(28 * 28,)))\n",
        "network.add(layers.Dense(10, activation='softmax'))"
      ],
      "execution_count": 9,
      "outputs": [
        {
          "output_type": "stream",
          "text": [
            "WARNING:tensorflow:From /usr/local/lib/python3.6/dist-packages/keras/backend/tensorflow_backend.py:66: The name tf.get_default_graph is deprecated. Please use tf.compat.v1.get_default_graph instead.\n",
            "\n",
            "WARNING:tensorflow:From /usr/local/lib/python3.6/dist-packages/keras/backend/tensorflow_backend.py:541: The name tf.placeholder is deprecated. Please use tf.compat.v1.placeholder instead.\n",
            "\n",
            "WARNING:tensorflow:From /usr/local/lib/python3.6/dist-packages/keras/backend/tensorflow_backend.py:4432: The name tf.random_uniform is deprecated. Please use tf.random.uniform instead.\n",
            "\n"
          ],
          "name": "stdout"
        }
      ]
    },
    {
      "cell_type": "markdown",
      "metadata": {
        "id": "3SXq_3hLHJ3s",
        "colab_type": "text"
      },
      "source": [
        "* ニューラルネットワークのコアブロックは **レイヤ**。\n",
        "  * レイヤは特定のフィルタリングを行うデータ処理モジュール\n",
        "  * 複数のレイヤを通過することで、問題を解くのに最適なデータの表現(representations)が出力される。\n",
        "  * Deep Learningでは、複数の単純なレイヤを組み合わせることで、データ蒸留(data distillation)していく。\n",
        "* 今回のモデルは単純な`Dense`レイヤ\n",
        "  * 全結合層(fully-connected layer)ともいわれる\n",
        "  * 最初に512個の要素をもつベクトルに表現を変える。\n",
        "  * 最初のレイヤは、`input_shape`引数を指定して、入力データのテンソル形状をネットワークに教える必要がある。今回は、28 x 28 で画像の全体を1次元ベクトルにした形状。\n",
        "  * 最後に 10個のクラスに分割するための `softmax` レイヤを追加する。これによって10個の別々の数字のどれかに正しそうか確率が出てくる。\n",
        "\n",
        "\n",
        "\n",
        "\n",
        "\n"
      ]
    },
    {
      "cell_type": "markdown",
      "metadata": {
        "id": "G4VWZd0MNE9t",
        "colab_type": "text"
      },
      "source": [
        "### 次に、ネットワークを作るために **コンパイル** する\n"
      ]
    },
    {
      "cell_type": "code",
      "metadata": {
        "id": "OHkX90mzMFKo",
        "colab_type": "code",
        "colab": {
          "base_uri": "https://localhost:8080/",
          "height": 105
        },
        "outputId": "887e8358-553b-4290-8c31-3762697be283"
      },
      "source": [
        "network.compile(optimizer='rmsprop',\n",
        "                loss='categorical_crossentropy',\n",
        "                metrics=['accuracy'])"
      ],
      "execution_count": 10,
      "outputs": [
        {
          "output_type": "stream",
          "text": [
            "WARNING:tensorflow:From /usr/local/lib/python3.6/dist-packages/keras/optimizers.py:793: The name tf.train.Optimizer is deprecated. Please use tf.compat.v1.train.Optimizer instead.\n",
            "\n",
            "WARNING:tensorflow:From /usr/local/lib/python3.6/dist-packages/keras/backend/tensorflow_backend.py:3576: The name tf.log is deprecated. Please use tf.math.log instead.\n",
            "\n"
          ],
          "name": "stdout"
        }
      ]
    },
    {
      "cell_type": "markdown",
      "metadata": {
        "id": "YyEPsI2LNLPp",
        "colab_type": "text"
      },
      "source": [
        "* loss関数：学習データの中で真の値とシステム出力の差を計算し、これを近づける方向を示す関数\n",
        "* optimizer関数：loss関数とデータを使ってどの程度パラメタを変更すべきかを決める最適化関数\n",
        "* metrics：学習データやテストデータをモニタリングする指標。今回の場合 *accuracy*。"
      ]
    },
    {
      "cell_type": "markdown",
      "metadata": {
        "id": "6eGv4ig-NdAY",
        "colab_type": "text"
      },
      "source": [
        "### 次にデータを、このネットワークに合うように**データ前処理**する。\n",
        "* データ\n",
        "  * 形状を 28 x 28 の画像を、フラットにする\n",
        "  * うまく学習できるように、画素の値`[0, 255]`を、`[0, 1]`にスケーリングする\n",
        "* ラベル\n",
        "  * `[0 - 9]`の数値を、onehotベクトルに変換する\n",
        "  * one hot ベクトルとは、カテゴリデータを示すためによく使われるベクトル。今回は、10個の要素を持つベクトルに変換する。"
      ]
    },
    {
      "cell_type": "code",
      "metadata": {
        "id": "oTMLu9GBNa7I",
        "colab_type": "code",
        "colab": {}
      },
      "source": [
        "train_images = train_images.reshape((60000, 28 * 28))\n",
        "train_images = train_images.astype('float32') / 255\n",
        "\n",
        "test_images = test_images.reshape((10000, 28 * 28))\n",
        "test_images = test_images.astype('float32') / 255"
      ],
      "execution_count": 0,
      "outputs": []
    },
    {
      "cell_type": "code",
      "metadata": {
        "id": "2NsOH_tlNbup",
        "colab_type": "code",
        "colab": {}
      },
      "source": [
        "from keras.utils import to_categorical\n",
        "\n",
        "train_labels = to_categorical(train_labels)\n",
        "test_labels = to_categorical(test_labels)"
      ],
      "execution_count": 0,
      "outputs": []
    },
    {
      "cell_type": "code",
      "metadata": {
        "id": "d9B7QSM4PTnU",
        "colab_type": "code",
        "colab": {
          "base_uri": "https://localhost:8080/",
          "height": 34
        },
        "outputId": "805385f3-6575-43c5-ae13-953b6d8e099c"
      },
      "source": [
        "train_labels[0]"
      ],
      "execution_count": 13,
      "outputs": [
        {
          "output_type": "execute_result",
          "data": {
            "text/plain": [
              "array([0., 0., 0., 0., 0., 1., 0., 0., 0., 0.], dtype=float32)"
            ]
          },
          "metadata": {
            "tags": []
          },
          "execution_count": 13
        }
      ]
    },
    {
      "cell_type": "markdown",
      "metadata": {
        "id": "XwehmRnTPeFK",
        "colab_type": "text"
      },
      "source": [
        "`5`を示す要素の位置に`1`となる要素10個のベクトルになっている。"
      ]
    },
    {
      "cell_type": "markdown",
      "metadata": {
        "id": "zD_M51YNUTZU",
        "colab_type": "text"
      },
      "source": [
        "学習データは、訓練データ(training)と検証データ(valitation)に分ける。\n",
        "\n",
        "今回の場合、60,000件の学習データがあるので、その10%程度6,000件を検証データに使いたい。\n",
        "\n",
        "kerasでは、学習時に、学習データの指定した割合のデータを検証用データとして選択する機能があるので、これを使う。ただし、学習データをランダムに選択はせず、学習データリストの最後の指定割合が使われるので、学習データをランダムに並べかをを行っておく。\n"
      ]
    },
    {
      "cell_type": "code",
      "metadata": {
        "id": "0d6g8WrBURmV",
        "colab_type": "code",
        "colab": {}
      },
      "source": [
        "indices = np.arange(train_images.shape[0])\n",
        "np.random.shuffle(indices)\n",
        "train_images = train_images[indices]\n",
        "train_labels = train_labels[indices]"
      ],
      "execution_count": 0,
      "outputs": []
    },
    {
      "cell_type": "markdown",
      "metadata": {
        "id": "5TDSi5vJPvoq",
        "colab_type": "text"
      },
      "source": [
        "### 次に**学習**する。\n",
        "\n",
        "`fit`メソッドを呼ぶ。"
      ]
    },
    {
      "cell_type": "code",
      "metadata": {
        "id": "7nh6K183P-MT",
        "colab_type": "code",
        "colab": {
          "base_uri": "https://localhost:8080/",
          "height": 717
        },
        "outputId": "ba0eac81-dc37-4c81-87b6-b5022646c87e"
      },
      "source": [
        "history = network.fit(train_images, train_labels, validation_split=0.1, epochs=10, batch_size=128)\n"
      ],
      "execution_count": 15,
      "outputs": [
        {
          "output_type": "stream",
          "text": [
            "WARNING:tensorflow:From /usr/local/lib/python3.6/dist-packages/tensorflow_core/python/ops/math_grad.py:1424: where (from tensorflow.python.ops.array_ops) is deprecated and will be removed in a future version.\n",
            "Instructions for updating:\n",
            "Use tf.where in 2.0, which has the same broadcast rule as np.where\n",
            "WARNING:tensorflow:From /usr/local/lib/python3.6/dist-packages/keras/backend/tensorflow_backend.py:1033: The name tf.assign_add is deprecated. Please use tf.compat.v1.assign_add instead.\n",
            "\n",
            "WARNING:tensorflow:From /usr/local/lib/python3.6/dist-packages/keras/backend/tensorflow_backend.py:1020: The name tf.assign is deprecated. Please use tf.compat.v1.assign instead.\n",
            "\n",
            "WARNING:tensorflow:From /usr/local/lib/python3.6/dist-packages/keras/backend/tensorflow_backend.py:3005: The name tf.Session is deprecated. Please use tf.compat.v1.Session instead.\n",
            "\n",
            "Train on 54000 samples, validate on 6000 samples\n",
            "Epoch 1/10\n",
            "WARNING:tensorflow:From /usr/local/lib/python3.6/dist-packages/keras/backend/tensorflow_backend.py:190: The name tf.get_default_session is deprecated. Please use tf.compat.v1.get_default_session instead.\n",
            "\n",
            "WARNING:tensorflow:From /usr/local/lib/python3.6/dist-packages/keras/backend/tensorflow_backend.py:197: The name tf.ConfigProto is deprecated. Please use tf.compat.v1.ConfigProto instead.\n",
            "\n",
            "WARNING:tensorflow:From /usr/local/lib/python3.6/dist-packages/keras/backend/tensorflow_backend.py:207: The name tf.global_variables is deprecated. Please use tf.compat.v1.global_variables instead.\n",
            "\n",
            "WARNING:tensorflow:From /usr/local/lib/python3.6/dist-packages/keras/backend/tensorflow_backend.py:216: The name tf.is_variable_initialized is deprecated. Please use tf.compat.v1.is_variable_initialized instead.\n",
            "\n",
            "WARNING:tensorflow:From /usr/local/lib/python3.6/dist-packages/keras/backend/tensorflow_backend.py:223: The name tf.variables_initializer is deprecated. Please use tf.compat.v1.variables_initializer instead.\n",
            "\n",
            "54000/54000 [==============================] - 5s 87us/step - loss: 0.2695 - acc: 0.9220 - val_loss: 0.1604 - val_acc: 0.9537\n",
            "Epoch 2/10\n",
            "54000/54000 [==============================] - 5s 84us/step - loss: 0.1125 - acc: 0.9665 - val_loss: 0.1208 - val_acc: 0.9642\n",
            "Epoch 3/10\n",
            "54000/54000 [==============================] - 4s 82us/step - loss: 0.0738 - acc: 0.9777 - val_loss: 0.0964 - val_acc: 0.9708\n",
            "Epoch 4/10\n",
            "54000/54000 [==============================] - 5s 83us/step - loss: 0.0539 - acc: 0.9835 - val_loss: 0.0863 - val_acc: 0.9735\n",
            "Epoch 5/10\n",
            "54000/54000 [==============================] - 4s 83us/step - loss: 0.0408 - acc: 0.9877 - val_loss: 0.0881 - val_acc: 0.9743\n",
            "Epoch 6/10\n",
            "54000/54000 [==============================] - 5s 86us/step - loss: 0.0303 - acc: 0.9911 - val_loss: 0.0968 - val_acc: 0.9750\n",
            "Epoch 7/10\n",
            "54000/54000 [==============================] - 4s 83us/step - loss: 0.0235 - acc: 0.9928 - val_loss: 0.0991 - val_acc: 0.9742\n",
            "Epoch 8/10\n",
            "54000/54000 [==============================] - 5s 84us/step - loss: 0.0194 - acc: 0.9944 - val_loss: 0.0875 - val_acc: 0.9752\n",
            "Epoch 9/10\n",
            "54000/54000 [==============================] - 4s 81us/step - loss: 0.0142 - acc: 0.9959 - val_loss: 0.0912 - val_acc: 0.9767\n",
            "Epoch 10/10\n",
            "54000/54000 [==============================] - 5s 84us/step - loss: 0.0108 - acc: 0.9968 - val_loss: 0.0885 - val_acc: 0.9792\n"
          ],
          "name": "stdout"
        }
      ]
    },
    {
      "cell_type": "markdown",
      "metadata": {
        "id": "qQXjd95ZXl4k",
        "colab_type": "text"
      },
      "source": [
        "損失値と正解率をプロットする"
      ]
    },
    {
      "cell_type": "code",
      "metadata": {
        "id": "8LO7IuLYXr85",
        "colab_type": "code",
        "colab": {
          "base_uri": "https://localhost:8080/",
          "height": 34
        },
        "outputId": "c753bc1c-fb6c-4b30-e640-3be5a77303c2"
      },
      "source": [
        "history_dict = history.history\n",
        "history_dict.keys()"
      ],
      "execution_count": 16,
      "outputs": [
        {
          "output_type": "execute_result",
          "data": {
            "text/plain": [
              "dict_keys(['val_loss', 'val_acc', 'loss', 'acc'])"
            ]
          },
          "metadata": {
            "tags": []
          },
          "execution_count": 16
        }
      ]
    },
    {
      "cell_type": "code",
      "metadata": {
        "id": "PDFhiSv7YLT4",
        "colab_type": "code",
        "colab": {
          "base_uri": "https://localhost:8080/",
          "height": 295
        },
        "outputId": "2f4a1087-2116-4a79-8c14-852af835715c"
      },
      "source": [
        "acc = history.history['acc']\n",
        "val_acc = history.history['val_acc']\n",
        "loss = history.history['loss']\n",
        "val_loss = history.history['val_loss']\n",
        "\n",
        "epochs = range(1, len(acc) + 1)\n",
        "\n",
        "plt.plot(epochs, loss, 'bo', label='Training loss')\n",
        "plt.plot(epochs, val_loss, 'b', label='Validation loss')\n",
        "plt.title('Training and validation loss')\n",
        "plt.xlabel('Epochs')\n",
        "plt.ylabel('Loss')\n",
        "plt.legend()\n",
        "\n",
        "plt.show()"
      ],
      "execution_count": 17,
      "outputs": [
        {
          "output_type": "display_data",
          "data": {
            "image/png": "[encoded data removed]",
            "text/plain": [
              "<Figure size 432x288 with 1 Axes>"
            ]
          },
          "metadata": {
            "tags": []
          }
        }
      ]
    },
    {
      "cell_type": "code",
      "metadata": {
        "id": "sb0wsOicYTKH",
        "colab_type": "code",
        "colab": {
          "base_uri": "https://localhost:8080/",
          "height": 295
        },
        "outputId": "252c89e1-4066-44b8-a73e-cb09ee409b1b"
      },
      "source": [
        "plt.clf()\n",
        "acc_values = history_dict['acc']\n",
        "val_acc_values = history_dict['val_acc']\n",
        "\n",
        "plt.plot(epochs, acc, 'bo', label='Training acc')\n",
        "plt.plot(epochs, val_acc, 'b', label='Validation acc')\n",
        "plt.title('Training and validation accuracy')\n",
        "plt.xlabel('Epochs')\n",
        "plt.ylabel('Loss')\n",
        "plt.legend()\n",
        "\n",
        "plt.show()"
      ],
      "execution_count": 18,
      "outputs": [
        {
          "output_type": "display_data",
          "data": {
            "image/png": "[encoded data removed]",
            "text/plain": [
              "<Figure size 432x288 with 1 Axes>"
            ]
          },
          "metadata": {
            "tags": []
          }
        }
      ]
    },
    {
      "cell_type": "markdown",
      "metadata": {
        "id": "0znas7Qc68T0",
        "colab_type": "text"
      },
      "source": [
        "## 評価\n",
        "\n",
        "テストデータで、今回の評価指標である accuracy を計測する"
      ]
    },
    {
      "cell_type": "code",
      "metadata": {
        "id": "1o2i4e6MRgMd",
        "colab_type": "code",
        "colab": {
          "base_uri": "https://localhost:8080/",
          "height": 34
        },
        "outputId": "424e821f-ef49-4278-f313-f084ee9f4e21"
      },
      "source": [
        "test_loss, test_acc = network.evaluate(test_images, test_labels)"
      ],
      "execution_count": 19,
      "outputs": [
        {
          "output_type": "stream",
          "text": [
            "10000/10000 [==============================] - 1s 53us/step\n"
          ],
          "name": "stdout"
        }
      ]
    },
    {
      "cell_type": "code",
      "metadata": {
        "id": "CmTQR35nRm6D",
        "colab_type": "code",
        "colab": {
          "base_uri": "https://localhost:8080/",
          "height": 34
        },
        "outputId": "e512e119-31bc-44ce-f0ad-3f47ec76a145"
      },
      "source": [
        "print('test_acc:', test_acc)"
      ],
      "execution_count": 20,
      "outputs": [
        {
          "output_type": "stream",
          "text": [
            "test_acc: 0.9805\n"
          ],
          "name": "stdout"
        }
      ]
    },
    {
      "cell_type": "markdown",
      "metadata": {
        "id": "bk3IXnLQRpY8",
        "colab_type": "text"
      },
      "source": [
        "98.1% の正解率であり、統計的検出ラインを上回ったので、まずは合格。"
      ]
    },
    {
      "cell_type": "markdown",
      "metadata": {
        "id": "i2xxP7inSBAT",
        "colab_type": "text"
      },
      "source": [
        "## チューニング\n",
        "\n",
        "今回のモデルはかなり単純なモデルだった。もう少し複雑なモデルでもよいかもしれない。\n",
        "\n",
        "複雑なモデルの作成は、別の章で行う。"
      ]
    }
  ]
}